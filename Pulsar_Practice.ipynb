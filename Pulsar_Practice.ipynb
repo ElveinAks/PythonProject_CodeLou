{
 "cells": [
  {
   "cell_type": "markdown",
   "metadata": {},
   "source": [
    "# Introduction\n",
    "\n",
    "A <b>Neutron Star</b> is a star that forms when a giant star burns all of its Hydrogen into heavier elements, thus no longer emitting enough energy to maintain its structure, so it collapses under its own weight: All of its electrons collapse into the nucleus. A <b>Pulsar</b> is a neutron Star that spins rapidly, containing a beam of electromagnetic radiation along its magnetic poles, which when swept across Earth is detectable. Pulsars are important for many reasons, a few of them being:\n",
    "<ul>\n",
    "    <li>Confirming The General Theory of Relativety</li>\n",
    "    <li>Allowing for new insights in Nuclear Physics</li>\n",
    "    <li>Confirming of Gravitaty Waves(2017)</li>\n",
    "    <li>Providing evidence on the origin of heavy metals</li>\n",
    "</ul>"
   ]
  },
  {
   "cell_type": "markdown",
   "metadata": {},
   "source": [
    "## Import Statements"
   ]
  },
  {
   "cell_type": "code",
   "execution_count": 28,
   "metadata": {},
   "outputs": [],
   "source": [
    "import numpy as np\n",
    "import pandas as pd\n",
    "import matplotlib.pyplot as plt\n",
    "import sqlite3 \n",
    "\n",
    "conn = sqlite3.connect('pulsar_data.db')    #Create SQL Database named 'pulsar_data'\n",
    "pulsar_data = pd.read_csv('pulsar_stars.csv')    #Read the CSV file\n",
    "pulsar_data.to_sql('pulsar_data', conn, if_exists = 'replace')    #Populate the database with the CSV entries"
   ]
  },
  {
   "cell_type": "markdown",
   "metadata": {},
   "source": [
    "## Psuedo-Header"
   ]
  },
  {
   "cell_type": "code",
   "execution_count": 2,
   "metadata": {},
   "outputs": [
    {
     "name": "stdout",
     "output_type": "stream",
     "text": [
      "The names of the columns are: \t\n",
      "\n",
      " 1. mean_of_the_integrated_profile\n",
      "\n",
      " 2. standard_deviation_of_the_integrated_profile\n",
      "\n",
      " 3. excess_kurtosis_of_the_integrated_profile\n",
      "\n",
      " 4. skewness_of_the_integrated_profile\n",
      "\n",
      " 5. mean_of_the_dm-snr_curve\n",
      "\n",
      " 6. standard_deviation_of_the_dm-snr_curve\n",
      "\n",
      " 7. excess_kurtosis_of_the_dm-snr_curve\n",
      "\n",
      " 8. skewness_of_the_dm-snr_curve\n",
      "\n",
      " 9. target_class\n"
     ]
    }
   ],
   "source": [
    "top_of = list(pulsar_data)\n",
    "print('The names of the columns are: \\t')\n",
    "count = 1\n",
    "for top in top_of:\n",
    "    print('\\n {}. {}'.format(count, top))\n",
    "    count += 1"
   ]
  },
  {
   "cell_type": "markdown",
   "metadata": {},
   "source": [
    "<i>The dataset has 9 columns, with the above names for each column. The number of rows corresponds to how many potential Pulsars are in this study, and to see how many potential Pulsars there may be, the following statement is executed:</i>\n",
    "\n"
   ]
  },
  {
   "cell_type": "code",
   "execution_count": 3,
   "metadata": {},
   "outputs": [
    {
     "name": "stdout",
     "output_type": "stream",
     "text": [
      "There are 17898 rows, and therefore there are that many potential Pulsars\n"
     ]
    }
   ],
   "source": [
    "rows = len(pulsar_data)\n",
    "print(\"There are {} rows, and therefore there are that many potential Pulsars\".format(rows))"
   ]
  },
  {
   "cell_type": "markdown",
   "metadata": {},
   "source": [
    "Out of the thousands of rows, how does one know which of these entries are Pulsars and which ones are radio interference and noise? This is found in the <b>target_class</b> column. The identifiers are 1 & 0; 1 is a Pulsar and 0 is something else. To see all the rows with a 1, run the code:"
   ]
  },
  {
   "cell_type": "code",
   "execution_count": 30,
   "metadata": {},
   "outputs": [
    {
     "data": {
      "text/html": [
       "<div>\n",
       "<style scoped>\n",
       "    .dataframe tbody tr th:only-of-type {\n",
       "        vertical-align: middle;\n",
       "    }\n",
       "\n",
       "    .dataframe tbody tr th {\n",
       "        vertical-align: top;\n",
       "    }\n",
       "\n",
       "    .dataframe thead th {\n",
       "        text-align: right;\n",
       "    }\n",
       "</style>\n",
       "<table border=\"1\" class=\"dataframe\">\n",
       "  <thead>\n",
       "    <tr style=\"text-align: right;\">\n",
       "      <th></th>\n",
       "      <th>mean_of_the_integrated_profile</th>\n",
       "      <th>standard_deviation_of_the_integrated_profile</th>\n",
       "      <th>excess_kurtosis_of_the_integrated_profile</th>\n",
       "      <th>skewness_of_the_integrated_profile</th>\n",
       "      <th>mean_of_the_dm-snr_curve</th>\n",
       "      <th>standard_deviation_of_the_dm-snr_curve</th>\n",
       "      <th>excess_kurtosis_of_the_dm-snr_curve</th>\n",
       "      <th>skewness_of_the_dm-snr_curve</th>\n",
       "      <th>target_class</th>\n",
       "    </tr>\n",
       "  </thead>\n",
       "  <tbody>\n",
       "    <tr>\n",
       "      <th>19</th>\n",
       "      <td>99.367188</td>\n",
       "      <td>41.572202</td>\n",
       "      <td>1.547197</td>\n",
       "      <td>4.154106</td>\n",
       "      <td>27.555184</td>\n",
       "      <td>61.719016</td>\n",
       "      <td>2.208808</td>\n",
       "      <td>3.662680</td>\n",
       "      <td>1</td>\n",
       "    </tr>\n",
       "    <tr>\n",
       "      <th>42</th>\n",
       "      <td>120.554688</td>\n",
       "      <td>45.549905</td>\n",
       "      <td>0.282924</td>\n",
       "      <td>0.419909</td>\n",
       "      <td>1.358696</td>\n",
       "      <td>13.079034</td>\n",
       "      <td>13.312141</td>\n",
       "      <td>212.597029</td>\n",
       "      <td>1</td>\n",
       "    </tr>\n",
       "    <tr>\n",
       "      <th>61</th>\n",
       "      <td>27.765625</td>\n",
       "      <td>28.666042</td>\n",
       "      <td>5.770087</td>\n",
       "      <td>37.419009</td>\n",
       "      <td>73.112876</td>\n",
       "      <td>62.070220</td>\n",
       "      <td>1.268206</td>\n",
       "      <td>1.082920</td>\n",
       "      <td>1</td>\n",
       "    </tr>\n",
       "    <tr>\n",
       "      <th>92</th>\n",
       "      <td>23.625000</td>\n",
       "      <td>29.948654</td>\n",
       "      <td>5.688038</td>\n",
       "      <td>35.987172</td>\n",
       "      <td>146.568562</td>\n",
       "      <td>82.394624</td>\n",
       "      <td>-0.274902</td>\n",
       "      <td>-1.121848</td>\n",
       "      <td>1</td>\n",
       "    </tr>\n",
       "    <tr>\n",
       "      <th>93</th>\n",
       "      <td>94.585938</td>\n",
       "      <td>35.779823</td>\n",
       "      <td>1.187309</td>\n",
       "      <td>3.687469</td>\n",
       "      <td>6.071070</td>\n",
       "      <td>29.760400</td>\n",
       "      <td>5.318767</td>\n",
       "      <td>28.698048</td>\n",
       "      <td>1</td>\n",
       "    </tr>\n",
       "  </tbody>\n",
       "</table>\n",
       "</div>"
      ],
      "text/plain": [
       "    mean_of_the_integrated_profile  \\\n",
       "19                       99.367188   \n",
       "42                      120.554688   \n",
       "61                       27.765625   \n",
       "92                       23.625000   \n",
       "93                       94.585938   \n",
       "\n",
       "    standard_deviation_of_the_integrated_profile  \\\n",
       "19                                     41.572202   \n",
       "42                                     45.549905   \n",
       "61                                     28.666042   \n",
       "92                                     29.948654   \n",
       "93                                     35.779823   \n",
       "\n",
       "    excess_kurtosis_of_the_integrated_profile  \\\n",
       "19                                   1.547197   \n",
       "42                                   0.282924   \n",
       "61                                   5.770087   \n",
       "92                                   5.688038   \n",
       "93                                   1.187309   \n",
       "\n",
       "    skewness_of_the_integrated_profile  mean_of_the_dm-snr_curve  \\\n",
       "19                            4.154106                 27.555184   \n",
       "42                            0.419909                  1.358696   \n",
       "61                           37.419009                 73.112876   \n",
       "92                           35.987172                146.568562   \n",
       "93                            3.687469                  6.071070   \n",
       "\n",
       "    standard_deviation_of_the_dm-snr_curve  \\\n",
       "19                               61.719016   \n",
       "42                               13.079034   \n",
       "61                               62.070220   \n",
       "92                               82.394624   \n",
       "93                               29.760400   \n",
       "\n",
       "    excess_kurtosis_of_the_dm-snr_curve  skewness_of_the_dm-snr_curve  \\\n",
       "19                             2.208808                      3.662680   \n",
       "42                            13.312141                    212.597029   \n",
       "61                             1.268206                      1.082920   \n",
       "92                            -0.274902                     -1.121848   \n",
       "93                             5.318767                     28.698048   \n",
       "\n",
       "    target_class  \n",
       "19             1  \n",
       "42             1  \n",
       "61             1  \n",
       "92             1  \n",
       "93             1  "
      ]
     },
     "execution_count": 30,
     "metadata": {},
     "output_type": "execute_result"
    }
   ],
   "source": [
    "not_interference = pulsar_data[pulsar_data['target_class'] > 0]\n",
    "not_interference.head()    #Display just the first five entries"
   ]
  },
  {
   "cell_type": "markdown",
   "metadata": {},
   "source": [
    "## Mean of the Integrated Profile"
   ]
  },
  {
   "cell_type": "markdown",
   "metadata": {},
   "source": [
    "The <b>Integrated Profile</b> of a Pulsar is akin to the Pulsar's fingerprint. This is the frequency at which the Pulsar 'pulses' EM waves; the frequencies may vary considerably from one event to the next, but on average the integrated profile is quite stable."
   ]
  },
  {
   "cell_type": "code",
   "execution_count": 32,
   "metadata": {},
   "outputs": [
    {
     "data": {
      "text/plain": [
       "([<matplotlib.axis.XTick at 0x15f54a7d7f0>],\n",
       " <a list of 1 Text xticklabel objects>)"
      ]
     },
     "execution_count": 32,
     "metadata": {},
     "output_type": "execute_result"
    },
    {
     "data": {
      "image/png": "[encoded data removed]",
      "text/plain": [
       "<Figure size 432x288 with 1 Axes>"
      ]
     },
     "metadata": {
      "needs_background": "light"
     },
     "output_type": "display_data"
    }
   ],
   "source": [
    "spread = []\n",
    "i = 0\n",
    "for star in range(0, len(not_interference)-1):\n",
    "    spread.append(not_interference.iloc[i][0])\n",
    "    i += 1\n",
    "plt.boxplot(spread)\n",
    "plt.title('Spread of Integrated Profile')\n",
    "plt.xticks([1], ['Pulsars'])"
   ]
  }
 ],
 "metadata": {
  "kernelspec": {
   "display_name": "Python 3",
   "language": "python",
   "name": "python3"
  },
  "language_info": {
   "codemirror_mode": {
    "name": "ipython",
    "version": 3
   },
   "file_extension": ".py",
   "mimetype": "text/x-python",
   "name": "python",
   "nbconvert_exporter": "python",
   "pygments_lexer": "ipython3",
   "version": "3.7.3"
  }
 },
 "nbformat": 4,
 "nbformat_minor": 2
}
